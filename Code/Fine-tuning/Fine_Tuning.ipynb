{
  "nbformat": 4,
  "nbformat_minor": 0,
  "metadata": {
    "accelerator": "TPU",
    "colab": {
      "name": "Fine_Tuning.ipynb",
      "provenance": [],
      "collapsed_sections": [],
      "machine_shape": "hm"
    },
    "kernelspec": {
      "display_name": "Python 3",
      "language": "python",
      "name": "python3"
    },
    "language_info": {
      "codemirror_mode": {
        "name": "ipython",
        "version": 3
      },
      "file_extension": ".py",
      "mimetype": "text/x-python",
      "name": "python",
      "nbconvert_exporter": "python",
      "pygments_lexer": "ipython3",
      "version": "3.7.6"
    }
  },
  "cells": [
    {
      "cell_type": "code",
      "metadata": {
        "id": "2h1MRzBLtex2"
      },
      "source": [
        "%tensorflow_version 2.x\n",
        "!pip3 install --upgrade pip\n",
        "!pip install t5==0.9.2\n",
        "\n",
        "\n",
        "import functools\n",
        "import os\n",
        "import gin\n",
        "import tensorflow_gcs_config\n",
        "from google.colab import auth\n",
        "import tensorflow.compat.v1 as tf\n",
        "import tensorflow_datasets as tfds\n",
        "from contextlib import contextmanager\n",
        "import logging as py_logging\n",
        "import t5\n",
        "\n",
        "#Set the base dir(Google cloud bucket)\n",
        "BASE_DIR = \"\" #@param { type: \"string\" }\n",
        "\n",
        "# Set credentials for GCS reading/writing from Colab and TPU.\n",
        "TPU_TOPOLOGY = \"2x2\"\n",
        "try:\n",
        "  tpu = tf.distribute.cluster_resolver.TPUClusterResolver()  # TPU detection\n",
        "  TPU_ADDRESS = tpu.get_master()\n",
        "  print('Running on TPU:', TPU_ADDRESS)\n",
        "except ValueError:\n",
        "  raise BaseException('ERROR: Not connected to a TPU runtime; please see the previous cell in this notebook for instructions!')\n",
        "auth.authenticate_user()\n",
        "tf.config.experimental_connect_to_host(TPU_ADDRESS)\n",
        "tensorflow_gcs_config.configure_gcs_from_colab_auth()\n",
        "\n",
        "tf.disable_v2_behavior()\n",
        "\n",
        "\n",
        "#LOGGING\n",
        "tf.get_logger().propagate = False\n",
        "py_logging.root.setLevel('INFO')\n",
        "\n",
        "@contextmanager\n",
        "def tf_verbosity_level(level):\n",
        "  og_level = tf.logging.get_verbosity()\n",
        "  tf.logging.set_verbosity(level)\n",
        "  yield\n",
        "  tf.logging.set_verbosity(og_level)"
      ],
      "execution_count": null,
      "outputs": []
    },
    {
      "cell_type": "code",
      "metadata": {
        "id": "glLJUm1dxIiH"
      },
      "source": [
        "path_finetuning = '' #@param { type: \"string\" }\n",
        "path_eval = '' #@param { type: \"string\" }\n",
        "path_test = '' #@param { type: \"string\" }\n",
        "\n",
        "\n",
        "#### Dataset sizes ####\n",
        "\n",
        "#path_finetuning --> 1122864\n",
        "#path_eval --> 521779\n",
        "#path_test --> 437384\n",
        "\n",
        "\n",
        "\n",
        "nq_tsv_path = {\n",
        "    \"train\":      path_finetuning,\n",
        "    \"validation\": path_test\n",
        "}\n",
        "\n",
        "num_nq_examples = dict(train=106382, validation=12020)"
      ],
      "execution_count": 2,
      "outputs": []
    },
    {
      "cell_type": "code",
      "metadata": {
        "id": "PobLvzL18zzR"
      },
      "source": [
        "from t5.data import postprocessors as t5_postprocessors\n",
        "from t5.seqio import Feature,SentencePieceVocabulary\n",
        "\n",
        "\n",
        "vocab_model_path = '' #@param { type: \"string\" }\n",
        "vocab_path = '' #@param { type: \"string\" }\n",
        "\n",
        "\n",
        "TaskRegistry = t5.data.TaskRegistry\n",
        "TfdsTask = t5.data.TfdsTask\n",
        "\n",
        "\n",
        "def get_default_vocabulary():\n",
        "  return SentencePieceVocabulary(vocab_model_path, 100)\n",
        "\n",
        "DEFAULT_OUTPUT_FEATURES = {\n",
        "    \"inputs\": Feature(\n",
        "        vocabulary=get_default_vocabulary(), add_eos=True, required=False),\n",
        "\n",
        "    \"targets\": Feature(\n",
        "        vocabulary=get_default_vocabulary(), add_eos=True)\n",
        "}"
      ],
      "execution_count": 3,
      "outputs": []
    },
    {
      "cell_type": "code",
      "metadata": {
        "id": "K0NTLbyXvkCs"
      },
      "source": [
        "def nq_dataset_task(split, shuffle_files=True):\n",
        "  # We only have one file for each split.\n",
        "  del shuffle_files\n",
        "\n",
        "  # Load lines from the text file as examples.\n",
        "\n",
        "  ds = tf.data.TextLineDataset(nq_tsv_path[split])\n",
        "  ds = ds.map(\n",
        "      functools.partial(tf.io.decode_csv, record_defaults=[\"string\",\"string\"],\n",
        "                        field_delim=\"\\t\", use_quote_delim=True),\n",
        "      num_parallel_calls=tf.data.experimental.AUTOTUNE)\n",
        "  \n",
        "  ds = ds.map(lambda *ex: dict(zip([\"input\", \"output\"], ex)))\n",
        "  return ds\n",
        "\n",
        "print(\"A few raw train examples...\")\n",
        "for ex in tfds.as_numpy(nq_dataset_task(\"train\").take(5)):\n",
        "  print(ex)"
      ],
      "execution_count": null,
      "outputs": []
    },
    {
      "cell_type": "code",
      "metadata": {
        "id": "4bJZPQgjxKZ1"
      },
      "source": [
        "def preprocessing(ds):\n",
        "  \n",
        "  def to_inputs_and_targets(ex):\n",
        "        x_input = tf.strings.strip(ex['input'])\n",
        "        y_label = tf.strings.strip(ex['output']) \n",
        "        inputs = tf.strings.join([x_input], separator=' ')\n",
        "        class_label = tf.strings.join([y_label], separator=' ')\n",
        "        return {'inputs': inputs, 'targets': class_label}\n",
        "    \n",
        "  return ds.map(to_inputs_and_targets, \n",
        "                num_parallel_calls=tf.data.experimental.AUTOTUNE)"
      ],
      "execution_count": 5,
      "outputs": []
    },
    {
      "cell_type": "code",
      "metadata": {
        "id": "h3jAg8Zhx_Ep"
      },
      "source": [
        "t5.data.TaskRegistry.remove('log_injection')\n",
        "t5.data.TaskRegistry.add(\n",
        "    \"log_injection\",\n",
        "    dataset_fn=nq_dataset_task,\n",
        "    splits=[\"train\",\"validation\"],\n",
        "    text_preprocessor=[preprocessing],\n",
        "    output_features = DEFAULT_OUTPUT_FEATURES,\n",
        "    metric_fns=[t5.evaluation.metrics.accuracy],\n",
        "    num_input_examples=num_nq_examples\n",
        ")"
      ],
      "execution_count": null,
      "outputs": []
    },
    {
      "cell_type": "code",
      "metadata": {
        "id": "e71p9JIFyYHm"
      },
      "source": [
        "nq_task = t5.data.TaskRegistry.get(\"log_injection\")\n",
        "ds = nq_task.get_dataset(split=\"train\", sequence_length={\"inputs\": 512, \"targets\": 512})\n",
        "print(\"A few preprocessed training examples...\")\n",
        "for ex in tfds.as_numpy(ds.take(5)):\n",
        "  print(ex)"
      ],
      "execution_count": null,
      "outputs": []
    },
    {
      "cell_type": "code",
      "metadata": {
        "id": "cz1a1TxFNKmx"
      },
      "source": [
        "t5.data.MixtureRegistry.remove(\"task\")\n",
        "t5.data.MixtureRegistry.add(\n",
        "    \"task\",\n",
        "    [\"log_injection\"],\n",
        "    default_rate=1.0\n",
        ")"
      ],
      "execution_count": null,
      "outputs": []
    },
    {
      "cell_type": "code",
      "metadata": {
        "id": "_3Qx699vN302"
      },
      "source": [
        "from mesh_tensorflow.transformer.learning_rate_schedules import slanted_triangular \n",
        "from mesh_tensorflow.transformer.learning_rate_schedules import truncated_rsqrt\n",
        "from tensorflow.keras.optimizers.schedules import PolynomialDecay\n",
        "from t5 import models\n",
        "\n",
        "starter_learning_rate = 0.01\n",
        "end_learning_rate = 0.001\n",
        "decay_steps = 10000\n",
        "\n",
        "learning_rate_fn = PolynomialDecay(\n",
        "     starter_learning_rate,\n",
        "     decay_steps,\n",
        "     end_learning_rate,\n",
        "     power=0.5)\n",
        "\n",
        "MODEL_SIZE = \"small\" \n",
        "\n",
        "MODEL_DIR = 'gs://'#@param { type: \"string\" }\n",
        "\n",
        "PRETRAINED_DIR='gs://'#@param { type: \"string\" }\n",
        "\n",
        "\n",
        "model_parallelism, train_batch_size, keep_checkpoint_max = {\n",
        "    \"small\": (1, 128, 16),\n",
        "    \"base\": (2, 128, 8),\n",
        "    \"large\": (8, 64, 4),\n",
        "    \"3B\": (8, 16, 1),\n",
        "    \"11B\": (8, 16, 1)}[MODEL_SIZE]\n",
        "\n",
        "tf.io.gfile.makedirs(MODEL_DIR)\n",
        "\n",
        "model = t5.models.MtfModel(\n",
        "    model_dir=MODEL_DIR,\n",
        "    tpu=TPU_ADDRESS,\n",
        "    tpu_topology=TPU_TOPOLOGY,\n",
        "    model_parallelism=model_parallelism,\n",
        "    batch_size=train_batch_size,\n",
        "    learning_rate_schedule = slanted_triangular, #pick the correct scheduler, according to the model you want to train\n",
        "    sequence_length={\"inputs\": 512, \"targets\": 512},\n",
        "    save_checkpoints_steps=5000,\n",
        "    keep_checkpoint_max=keep_checkpoint_max,\n",
        "    iterations_per_loop=100,\n",
        ")"
      ],
      "execution_count": null,
      "outputs": []
    },
    {
      "cell_type": "code",
      "metadata": {
        "id": "6oHp5ScE7nf2"
      },
      "source": [
        "PATH_GIN_FILE_NO_PT = '/content/no_pretraining_operative_config.gin' \n",
        "PATH_GIN_FILE_MT = '/content/multi-task_operative_config.gin' \n",
        "PATH_GIN_FILE_DENOISE = '/content/denoise_only_operative_config.gin'\n",
        "PATH_GIN_FILE_LOG_STMT = '/content/log_stmt_only_operative_config.gin'\n",
        " \n",
        "with gin.unlock_config():\n",
        "    gin.parse_config_file(PATH_GIN_FILE)\n",
        "    #RUN FINE-TUNING\n",
        "    TRAIN_STEPS = 200000\n",
        "    model.finetune(mixture_or_task_name=\"task\",\n",
        "                   finetune_steps=TRAIN_STEPS,\n",
        "                   pretrained_model_dir=PRETRAINED_DIR)\n",
        "    \n",
        "    # If the no-pretraining experiment is the one you want to run, then, uncomment the following and comment model.finetune\n",
        "    # Also, make sure to upload the slanted_operative.gin\n",
        "    #model.train(\"task\", TRAIN_STEPS)\n",
        "\n",
        "\n"
      ],
      "execution_count": null,
      "outputs": []
    },
    {
      "cell_type": "code",
      "metadata": {
        "id": "NAo_rui4HXcT"
      },
      "source": [
        "# %%capture\n",
        "model.bach_size=32\n",
        "model.eval(\n",
        "    mixture_or_task_name=\"task\",\n",
        "    checkpoint_steps=-1 \n",
        ")\n",
        "\n",
        "\n",
        "\n",
        "# model.batch_size = 256\n",
        "# input_file = 'gs://'#@param { type: \"string\" }\n",
        "# output_file = 'gs://'#@param { type: \"string\" }\n",
        "# model.predict(input_file, output_file, checkpoint_steps=-1, vocabulary=get_default_vocabulary())\n",
        "\n",
        "\n"
      ],
      "execution_count": null,
      "outputs": []
    }
  ]
}